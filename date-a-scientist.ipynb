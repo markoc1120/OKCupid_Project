{
 "cells": [
  {
   "cell_type": "markdown",
   "metadata": {
    "tags": []
   },
   "source": [
    "# OkCupid Project"
   ]
  },
  {
   "cell_type": "markdown",
   "metadata": {},
   "source": [
    "First and foremost some data analysis, and visualization are needed to get an overview of the topic. There are three parts of this analysis. \n",
    "* Firstly **Logistic Regression (LR)** is going to be used. For this part, highest achieved education is going to be the label variable, and other interesting variables like if a person has ever used drug, or how often a person drinks and some other relevant ones are going to be features. Two scenarios will be tested in terms of label variable, firstly multi classification model, including _Undergraduate_, _Phd_, _Master_, _Highschool_ as labels. Secondly there will be a binary classification, as labels being _Undergraduate_, _Not undergraduate_, this analysis reveals whether a person tends to have unique attribution during undergraduate studying.\n",
    "* Secondly **Principle Component Analysis (PCA)** will be compared to the above mentioned Logistic Regressions. This gives us an idea of how important each selected feature.\n",
    "* **Thirdly Neural Network (NN)** is going to be performed on each candidate's essay. The goal of this analysis is to be able predict the gender of a specific person by the words used in essay."
   ]
  },
  {
   "cell_type": "markdown",
   "metadata": {},
   "source": [
    "### Importing necessary libraries:"
   ]
  },
  {
   "cell_type": "code",
   "execution_count": 260,
   "metadata": {},
   "outputs": [],
   "source": [
    "import pandas as pd\n",
    "import numpy as np\n",
    "import seaborn as sns\n",
    "import matplotlib.pyplot as plt\n",
    "from matplotlib.pyplot import figure, gcf\n",
    "from sklearn.linear_model import LogisticRegression\n",
    "from sklearn.model_selection import train_test_split\n",
    "from sklearn.preprocessing import StandardScaler\n",
    "from sklearn.metrics import accuracy_score, recall_score, precision_score, f1_score, confusion_matrix\n",
    "import warnings\n",
    "from sklearn.metrics import classification_report\n",
    "from imblearn.over_sampling import RandomOverSampler\n",
    "from sklearn.dummy import DummyClassifier\n",
    "from sklearn.metrics import roc_curve, roc_auc_score"
   ]
  },
  {
   "cell_type": "markdown",
   "metadata": {},
   "source": [
    "## Inspecting data"
   ]
  },
  {
   "cell_type": "markdown",
   "metadata": {},
   "source": [
    "Reading `profiles.csv` into a variable by using `read_csv` function from pandas:"
   ]
  },
  {
   "cell_type": "code",
   "execution_count": 261,
   "metadata": {},
   "outputs": [],
   "source": [
    "df = pd.read_csv('profiles.csv')"
   ]
  },
  {
   "cell_type": "markdown",
   "metadata": {},
   "source": [
    "Inspecting the dataframe to get an idea of what is feasable with the dataset, and to be able to think about how to alter some columns to fit the requirements for some Machine Learning Models."
   ]
  },
  {
   "cell_type": "code",
   "execution_count": 262,
   "metadata": {},
   "outputs": [
    {
     "data": {
      "text/html": [
       "<div>\n",
       "<style scoped>\n",
       "    .dataframe tbody tr th:only-of-type {\n",
       "        vertical-align: middle;\n",
       "    }\n",
       "\n",
       "    .dataframe tbody tr th {\n",
       "        vertical-align: top;\n",
       "    }\n",
       "\n",
       "    .dataframe thead th {\n",
       "        text-align: right;\n",
       "    }\n",
       "</style>\n",
       "<table border=\"1\" class=\"dataframe\">\n",
       "  <thead>\n",
       "    <tr style=\"text-align: right;\">\n",
       "      <th></th>\n",
       "      <th>age</th>\n",
       "      <th>body_type</th>\n",
       "      <th>diet</th>\n",
       "      <th>drinks</th>\n",
       "      <th>drugs</th>\n",
       "      <th>education</th>\n",
       "      <th>essay0</th>\n",
       "      <th>essay1</th>\n",
       "      <th>essay2</th>\n",
       "      <th>essay3</th>\n",
       "      <th>...</th>\n",
       "      <th>location</th>\n",
       "      <th>offspring</th>\n",
       "      <th>orientation</th>\n",
       "      <th>pets</th>\n",
       "      <th>religion</th>\n",
       "      <th>sex</th>\n",
       "      <th>sign</th>\n",
       "      <th>smokes</th>\n",
       "      <th>speaks</th>\n",
       "      <th>status</th>\n",
       "    </tr>\n",
       "  </thead>\n",
       "  <tbody>\n",
       "    <tr>\n",
       "      <th>0</th>\n",
       "      <td>22</td>\n",
       "      <td>a little extra</td>\n",
       "      <td>strictly anything</td>\n",
       "      <td>socially</td>\n",
       "      <td>never</td>\n",
       "      <td>working on college/university</td>\n",
       "      <td>about me:&lt;br /&gt;\\n&lt;br /&gt;\\ni would love to think...</td>\n",
       "      <td>currently working as an international agent fo...</td>\n",
       "      <td>making people laugh.&lt;br /&gt;\\nranting about a go...</td>\n",
       "      <td>the way i look. i am a six foot half asian, ha...</td>\n",
       "      <td>...</td>\n",
       "      <td>south san francisco, california</td>\n",
       "      <td>doesn&amp;rsquo;t have kids, but might want them</td>\n",
       "      <td>straight</td>\n",
       "      <td>likes dogs and likes cats</td>\n",
       "      <td>agnosticism and very serious about it</td>\n",
       "      <td>m</td>\n",
       "      <td>gemini</td>\n",
       "      <td>sometimes</td>\n",
       "      <td>english</td>\n",
       "      <td>single</td>\n",
       "    </tr>\n",
       "    <tr>\n",
       "      <th>1</th>\n",
       "      <td>35</td>\n",
       "      <td>average</td>\n",
       "      <td>mostly other</td>\n",
       "      <td>often</td>\n",
       "      <td>sometimes</td>\n",
       "      <td>working on space camp</td>\n",
       "      <td>i am a chef: this is what that means.&lt;br /&gt;\\n1...</td>\n",
       "      <td>dedicating everyday to being an unbelievable b...</td>\n",
       "      <td>being silly. having ridiculous amonts of fun w...</td>\n",
       "      <td>NaN</td>\n",
       "      <td>...</td>\n",
       "      <td>oakland, california</td>\n",
       "      <td>doesn&amp;rsquo;t have kids, but might want them</td>\n",
       "      <td>straight</td>\n",
       "      <td>likes dogs and likes cats</td>\n",
       "      <td>agnosticism but not too serious about it</td>\n",
       "      <td>m</td>\n",
       "      <td>cancer</td>\n",
       "      <td>no</td>\n",
       "      <td>english (fluently), spanish (poorly), french (...</td>\n",
       "      <td>single</td>\n",
       "    </tr>\n",
       "    <tr>\n",
       "      <th>2</th>\n",
       "      <td>38</td>\n",
       "      <td>thin</td>\n",
       "      <td>anything</td>\n",
       "      <td>socially</td>\n",
       "      <td>NaN</td>\n",
       "      <td>graduated from masters program</td>\n",
       "      <td>i'm not ashamed of much, but writing public te...</td>\n",
       "      <td>i make nerdy software for musicians, artists, ...</td>\n",
       "      <td>improvising in different contexts. alternating...</td>\n",
       "      <td>my large jaw and large glasses are the physica...</td>\n",
       "      <td>...</td>\n",
       "      <td>san francisco, california</td>\n",
       "      <td>NaN</td>\n",
       "      <td>straight</td>\n",
       "      <td>has cats</td>\n",
       "      <td>NaN</td>\n",
       "      <td>m</td>\n",
       "      <td>pisces but it doesn&amp;rsquo;t matter</td>\n",
       "      <td>no</td>\n",
       "      <td>english, french, c++</td>\n",
       "      <td>available</td>\n",
       "    </tr>\n",
       "    <tr>\n",
       "      <th>3</th>\n",
       "      <td>23</td>\n",
       "      <td>thin</td>\n",
       "      <td>vegetarian</td>\n",
       "      <td>socially</td>\n",
       "      <td>NaN</td>\n",
       "      <td>working on college/university</td>\n",
       "      <td>i work in a library and go to school. . .</td>\n",
       "      <td>reading things written by old dead people</td>\n",
       "      <td>playing synthesizers and organizing books acco...</td>\n",
       "      <td>socially awkward but i do my best</td>\n",
       "      <td>...</td>\n",
       "      <td>berkeley, california</td>\n",
       "      <td>doesn&amp;rsquo;t want kids</td>\n",
       "      <td>straight</td>\n",
       "      <td>likes cats</td>\n",
       "      <td>NaN</td>\n",
       "      <td>m</td>\n",
       "      <td>pisces</td>\n",
       "      <td>no</td>\n",
       "      <td>english, german (poorly)</td>\n",
       "      <td>single</td>\n",
       "    </tr>\n",
       "    <tr>\n",
       "      <th>4</th>\n",
       "      <td>29</td>\n",
       "      <td>athletic</td>\n",
       "      <td>NaN</td>\n",
       "      <td>socially</td>\n",
       "      <td>never</td>\n",
       "      <td>graduated from college/university</td>\n",
       "      <td>hey how's it going? currently vague on the pro...</td>\n",
       "      <td>work work work work + play</td>\n",
       "      <td>creating imagery to look at:&lt;br /&gt;\\nhttp://bag...</td>\n",
       "      <td>i smile a lot and my inquisitive nature</td>\n",
       "      <td>...</td>\n",
       "      <td>san francisco, california</td>\n",
       "      <td>NaN</td>\n",
       "      <td>straight</td>\n",
       "      <td>likes dogs and likes cats</td>\n",
       "      <td>NaN</td>\n",
       "      <td>m</td>\n",
       "      <td>aquarius</td>\n",
       "      <td>no</td>\n",
       "      <td>english</td>\n",
       "      <td>single</td>\n",
       "    </tr>\n",
       "  </tbody>\n",
       "</table>\n",
       "<p>5 rows × 31 columns</p>\n",
       "</div>"
      ],
      "text/plain": [
       "   age       body_type               diet    drinks      drugs  \\\n",
       "0   22  a little extra  strictly anything  socially      never   \n",
       "1   35         average       mostly other     often  sometimes   \n",
       "2   38            thin           anything  socially        NaN   \n",
       "3   23            thin         vegetarian  socially        NaN   \n",
       "4   29        athletic                NaN  socially      never   \n",
       "\n",
       "                           education  \\\n",
       "0      working on college/university   \n",
       "1              working on space camp   \n",
       "2     graduated from masters program   \n",
       "3      working on college/university   \n",
       "4  graduated from college/university   \n",
       "\n",
       "                                              essay0  \\\n",
       "0  about me:<br />\\n<br />\\ni would love to think...   \n",
       "1  i am a chef: this is what that means.<br />\\n1...   \n",
       "2  i'm not ashamed of much, but writing public te...   \n",
       "3          i work in a library and go to school. . .   \n",
       "4  hey how's it going? currently vague on the pro...   \n",
       "\n",
       "                                              essay1  \\\n",
       "0  currently working as an international agent fo...   \n",
       "1  dedicating everyday to being an unbelievable b...   \n",
       "2  i make nerdy software for musicians, artists, ...   \n",
       "3          reading things written by old dead people   \n",
       "4                         work work work work + play   \n",
       "\n",
       "                                              essay2  \\\n",
       "0  making people laugh.<br />\\nranting about a go...   \n",
       "1  being silly. having ridiculous amonts of fun w...   \n",
       "2  improvising in different contexts. alternating...   \n",
       "3  playing synthesizers and organizing books acco...   \n",
       "4  creating imagery to look at:<br />\\nhttp://bag...   \n",
       "\n",
       "                                              essay3  ...  \\\n",
       "0  the way i look. i am a six foot half asian, ha...  ...   \n",
       "1                                                NaN  ...   \n",
       "2  my large jaw and large glasses are the physica...  ...   \n",
       "3                  socially awkward but i do my best  ...   \n",
       "4            i smile a lot and my inquisitive nature  ...   \n",
       "\n",
       "                          location  \\\n",
       "0  south san francisco, california   \n",
       "1              oakland, california   \n",
       "2        san francisco, california   \n",
       "3             berkeley, california   \n",
       "4        san francisco, california   \n",
       "\n",
       "                                      offspring orientation  \\\n",
       "0  doesn&rsquo;t have kids, but might want them    straight   \n",
       "1  doesn&rsquo;t have kids, but might want them    straight   \n",
       "2                                           NaN    straight   \n",
       "3                       doesn&rsquo;t want kids    straight   \n",
       "4                                           NaN    straight   \n",
       "\n",
       "                        pets                                  religion sex  \\\n",
       "0  likes dogs and likes cats     agnosticism and very serious about it   m   \n",
       "1  likes dogs and likes cats  agnosticism but not too serious about it   m   \n",
       "2                   has cats                                       NaN   m   \n",
       "3                 likes cats                                       NaN   m   \n",
       "4  likes dogs and likes cats                                       NaN   m   \n",
       "\n",
       "                                 sign     smokes  \\\n",
       "0                              gemini  sometimes   \n",
       "1                              cancer         no   \n",
       "2  pisces but it doesn&rsquo;t matter         no   \n",
       "3                              pisces         no   \n",
       "4                            aquarius         no   \n",
       "\n",
       "                                              speaks     status  \n",
       "0                                            english     single  \n",
       "1  english (fluently), spanish (poorly), french (...     single  \n",
       "2                               english, french, c++  available  \n",
       "3                           english, german (poorly)     single  \n",
       "4                                            english     single  \n",
       "\n",
       "[5 rows x 31 columns]"
      ]
     },
     "execution_count": 262,
     "metadata": {},
     "output_type": "execute_result"
    }
   ],
   "source": [
    "df.head()"
   ]
  },
  {
   "cell_type": "code",
   "execution_count": 263,
   "metadata": {},
   "outputs": [
    {
     "data": {
      "text/plain": [
       "age           int64\n",
       "body_type    object\n",
       "diet         object\n",
       "drinks       object\n",
       "drugs        object\n",
       "dtype: object"
      ]
     },
     "execution_count": 263,
     "metadata": {},
     "output_type": "execute_result"
    }
   ],
   "source": [
    "df_col = df.columns\n",
    "df_col_type = df.dtypes\n",
    "df_col_type.head()"
   ]
  },
  {
   "cell_type": "markdown",
   "metadata": {},
   "source": [
    "As it can be seen most of the columns are object data types, which makes it harder to deal with LR and PCA models, which require quantitative data rather than qualitative."
   ]
  },
  {
   "cell_type": "markdown",
   "metadata": {},
   "source": [
    "Interpretation of the columns:\n",
    ">`age` - the age of a candidate<br>\n",
    "\n",
    ">`body_type` - reflects fitness of a candidate<br>\n",
    "\n",
    ">`diet` - includes if a candidate has some habit in terms of eating e.g. vegan<br>\n",
    "\n",
    ">`drinks` - informs about candidate alcohol drinking routine<br>\n",
    "\n",
    ">`drugs` - tells if a candidate ever smoked a green<br>\n",
    "\n",
    ">`education` - informtion about study level of a candidate<br>\n",
    "\n",
    ">`essay` - personal introduction of a candidate, includes `essay0` to `essay9`<br>\n",
    "\n",
    ">`ethnicity` - reflects which ethnicity a candidate belongs to<br>\n",
    "\n",
    ">`height` - height of a candidate in feet<br>\n",
    "\n",
    ">`income` - wage of a candidate<br>\n",
    "\n",
    ">`job` - occupation of a candidate<br>\n",
    "\n",
    ">`last_online` - information about a candidate last active time on the webpage<br>\n",
    "\n",
    ">`location` - informs about location of a candidate<br>\n",
    "\n",
    ">`offspring` - "
   ]
  },
  {
   "cell_type": "markdown",
   "metadata": {},
   "source": [
    "Getting a specific column's dtype given by its name:"
   ]
  },
  {
   "cell_type": "code",
   "execution_count": 264,
   "metadata": {},
   "outputs": [],
   "source": [
    "user_input = 'pets' #input('Column name that you are interested in what type it has: ').lower()"
   ]
  },
  {
   "cell_type": "code",
   "execution_count": 265,
   "metadata": {},
   "outputs": [
    {
     "name": "stdout",
     "output_type": "stream",
     "text": [
      "pets column's dtype is: object\n"
     ]
    }
   ],
   "source": [
    "df_col_type_dict = {key:value for (key, value) in zip(df_col, df_col_type)}\n",
    "print(f\"{user_input} column's dtype is: {df_col_type_dict[user_input]}\")"
   ]
  },
  {
   "cell_type": "markdown",
   "metadata": {},
   "source": [
    "## Cleaning data"
   ]
  },
  {
   "cell_type": "markdown",
   "metadata": {},
   "source": [
    "Because the id of a candidate is a unique id of the dataframe, therefore it is assumed that observation is independent, which is required for most of the ML models."
   ]
  },
  {
   "cell_type": "markdown",
   "metadata": {},
   "source": [
    "Dropping NaN values from the dataframe, since ML models are only working well for a dataset without missing values."
   ]
  },
  {
   "cell_type": "code",
   "execution_count": 266,
   "metadata": {},
   "outputs": [],
   "source": [
    "df.dropna(inplace=True)"
   ]
  },
  {
   "cell_type": "markdown",
   "metadata": {},
   "source": [
    "Checking whether the above code ran well:"
   ]
  },
  {
   "cell_type": "code",
   "execution_count": 267,
   "metadata": {},
   "outputs": [
    {
     "name": "stdout",
     "output_type": "stream",
     "text": [
      "Unique values in education column: ['college/university' 'dropped out of college/university'\n",
      " 'dropped out of high school' 'dropped out of law school'\n",
      " 'dropped out of masters program' 'dropped out of ph.d program'\n",
      " 'dropped out of space camp' 'dropped out of two-year college'\n",
      " 'graduated from college/university' 'graduated from high school'\n",
      " 'graduated from law school' 'graduated from masters program'\n",
      " 'graduated from med school' 'graduated from ph.d program'\n",
      " 'graduated from space camp' 'graduated from two-year college'\n",
      " 'high school' 'masters program' 'space camp' 'two-year college'\n",
      " 'working on college/university' 'working on high school'\n",
      " 'working on law school' 'working on masters program'\n",
      " 'working on med school' 'working on ph.d program' 'working on space camp'\n",
      " 'working on two-year college']\n"
     ]
    }
   ],
   "source": [
    "print(f\"Unique values in education column: {np.unique(df.education)}\")"
   ]
  },
  {
   "cell_type": "markdown",
   "metadata": {},
   "source": [
    "### Cleaning data for multi classification Logistic Regression"
   ]
  },
  {
   "cell_type": "markdown",
   "metadata": {},
   "source": [
    "Inspecting the distribution of different classes in the education column:"
   ]
  },
  {
   "cell_type": "code",
   "execution_count": 268,
   "metadata": {
    "scrolled": true
   },
   "outputs": [
    {
     "data": {
      "text/plain": [
       "graduated from college/university    1739\n",
       "graduated from masters program        699\n",
       "working on college/university         572\n",
       "graduated from two-year college       184\n",
       "graduated from high school            170\n",
       "Name: education, dtype: int64"
      ]
     },
     "execution_count": 268,
     "metadata": {},
     "output_type": "execute_result"
    }
   ],
   "source": [
    "df.education.value_counts().head(5)"
   ]
  },
  {
   "cell_type": "markdown",
   "metadata": {},
   "source": [
    "Creating a `highest_education` column to the dataframe, which includes _Undergraduate_, _Highschool_, _Master_, _Phd_ values."
   ]
  },
  {
   "cell_type": "code",
   "execution_count": 269,
   "metadata": {},
   "outputs": [],
   "source": [
    "def group_education(s):\n",
    "    description = s['education']\n",
    "    if ('graduate' in description) & ('college' in description):\n",
    "        return 'undergraduate'\n",
    "    elif ('work' in description) & ('college' in description):\n",
    "        return 'highschool'\n",
    "    elif ('graduate' in description) & ('master' in description):\n",
    "        return 'master'\n",
    "    elif ('graduate' in description) & ('high' in description):\n",
    "        return 'highschool'\n",
    "    elif ('work' in description) & ('master' in description):\n",
    "        return 'undergraduate'\n",
    "    elif ('drop' in description) & ('college' in description):\n",
    "        return 'highschool'\n",
    "    elif ('graduate' in description) & ('ph.d' in description):\n",
    "        return 'phd'\n",
    "    elif ('graduate' in description) & ('law' in description):\n",
    "        return 'undergraduate'\n",
    "    elif ('work' in description) & ('ph.d' in description):\n",
    "        return 'master'\n",
    "    elif ('graduate' in description) & ('master' in description):\n",
    "        return 'master'\n",
    "    elif ('graduate' in description) & ('med' in description):\n",
    "        return 'phd'\n",
    "    elif ('work' in description) & ('law' in description):\n",
    "        return 'highschool'\n",
    "    elif ('drop' in description) & ('master' in description):\n",
    "        return 'undergraduate'\n",
    "    elif ('drop' in description) & ('ph.d' in description):\n",
    "        return 'master'\n",
    "    elif 'college':\n",
    "        return 'undergraduate'\n",
    "    elif 'high school':\n",
    "        return 'highschool'\n",
    "    elif 'masters':\n",
    "        return 'master'\n",
    "    else:\n",
    "        return np.nan\n",
    "\n",
    "df['highest_education'] = df.apply(group_education, axis=1)"
   ]
  },
  {
   "cell_type": "code",
   "execution_count": 270,
   "metadata": {
    "scrolled": true
   },
   "outputs": [
    {
     "name": "stdout",
     "output_type": "stream",
     "text": [
      "The length of dataframe before cleaning up: 4407\n"
     ]
    }
   ],
   "source": [
    "print(f'The length of dataframe before cleaning up: {len(df)}')"
   ]
  },
  {
   "cell_type": "markdown",
   "metadata": {},
   "source": [
    "Since not all of the education description has been dealt with, e.g.: _space camp_ type has been omitted due to low occurrence. Dropping NaN values is needed to move forward."
   ]
  },
  {
   "cell_type": "code",
   "execution_count": 271,
   "metadata": {},
   "outputs": [],
   "source": [
    "df.highest_education.dropna(inplace=True)"
   ]
  },
  {
   "cell_type": "markdown",
   "metadata": {},
   "source": [
    "Distribution of the sorted highest_education values:"
   ]
  },
  {
   "cell_type": "code",
   "execution_count": 272,
   "metadata": {
    "scrolled": true
   },
   "outputs": [
    {
     "data": {
      "text/plain": [
       "undergraduate    2464\n",
       "highschool       1035\n",
       "master            771\n",
       "phd               137\n",
       "Name: highest_education, dtype: int64"
      ]
     },
     "execution_count": 272,
     "metadata": {},
     "output_type": "execute_result"
    }
   ],
   "source": [
    "df.highest_education.value_counts()"
   ]
  },
  {
   "cell_type": "markdown",
   "metadata": {},
   "source": [
    "_Diet_, _drinks_, _drugs_, _job_, _smokes_, _ethnicity_ columns' unique values are shown here, for the sake of a basic understanding of these columns' meaning."
   ]
  },
  {
   "cell_type": "code",
   "execution_count": 273,
   "metadata": {},
   "outputs": [
    {
     "data": {
      "text/plain": [
       "array(['strictly anything', 'mostly anything', 'anything', 'mostly other',\n",
       "       'other', 'mostly vegetarian', 'vegan', 'vegetarian',\n",
       "       'mostly kosher', 'mostly vegan', 'strictly vegetarian',\n",
       "       'strictly vegan', 'strictly other', 'mostly halal',\n",
       "       'strictly kosher', 'strictly halal', 'kosher'], dtype=object)"
      ]
     },
     "execution_count": 273,
     "metadata": {},
     "output_type": "execute_result"
    }
   ],
   "source": [
    "df.diet.unique()"
   ]
  },
  {
   "cell_type": "code",
   "execution_count": 274,
   "metadata": {},
   "outputs": [
    {
     "data": {
      "text/plain": [
       "array(['socially', 'rarely', 'often', 'not at all', 'very often',\n",
       "       'desperately'], dtype=object)"
      ]
     },
     "execution_count": 274,
     "metadata": {},
     "output_type": "execute_result"
    }
   ],
   "source": [
    "df.drinks.unique()"
   ]
  },
  {
   "cell_type": "code",
   "execution_count": 275,
   "metadata": {
    "scrolled": true
   },
   "outputs": [
    {
     "data": {
      "text/plain": [
       "array(['never', 'sometimes', 'often'], dtype=object)"
      ]
     },
     "execution_count": 275,
     "metadata": {},
     "output_type": "execute_result"
    }
   ],
   "source": [
    "df.drugs.unique()"
   ]
  },
  {
   "cell_type": "markdown",
   "metadata": {},
   "source": [
    "Since there are so many different values in _ethnicity_, it has been reduced to only contain those values, which occured 10 or more than 10 times."
   ]
  },
  {
   "cell_type": "code",
   "execution_count": 276,
   "metadata": {},
   "outputs": [],
   "source": [
    "df = df.groupby('ethnicity').filter(lambda x : (x['ethnicity'].count()>=10).any())"
   ]
  },
  {
   "cell_type": "code",
   "execution_count": 277,
   "metadata": {},
   "outputs": [
    {
     "data": {
      "text/plain": [
       "array(['asian, white', 'white', 'asian', 'hispanic / latin, white',\n",
       "       'hispanic / latin', 'indian', 'native american, white', 'other',\n",
       "       'asian, pacific islander', 'white, other',\n",
       "       'native american, white, other', 'pacific islander', 'black',\n",
       "       'middle eastern', 'black, hispanic / latin', 'black, white',\n",
       "       'middle eastern, white', 'black, native american, white',\n",
       "       'black, other', 'hispanic / latin, white, other',\n",
       "       'pacific islander, white', 'hispanic / latin, other',\n",
       "       'black, native american',\n",
       "       'native american, hispanic / latin, white'], dtype=object)"
      ]
     },
     "execution_count": 277,
     "metadata": {},
     "output_type": "execute_result"
    }
   ],
   "source": [
    "df.ethnicity.unique()"
   ]
  },
  {
   "cell_type": "code",
   "execution_count": 278,
   "metadata": {},
   "outputs": [
    {
     "data": {
      "text/plain": [
       "array(['transportation', 'science / tech / engineering',\n",
       "       'executive / management', 'artistic / musical / writer',\n",
       "       'unemployed', 'medicine / health', 'sales / marketing / biz dev',\n",
       "       'computer / hardware / software', 'entertainment / media',\n",
       "       'banking / financial / real estate', 'student',\n",
       "       'clerical / administrative', 'other',\n",
       "       'construction / craftsmanship', 'education / academia', 'military',\n",
       "       'law / legal services', 'political / government', 'rather not say',\n",
       "       'hospitality / travel', 'retired'], dtype=object)"
      ]
     },
     "execution_count": 278,
     "metadata": {},
     "output_type": "execute_result"
    }
   ],
   "source": [
    "df.job.unique()"
   ]
  },
  {
   "cell_type": "code",
   "execution_count": 279,
   "metadata": {},
   "outputs": [
    {
     "data": {
      "text/plain": [
       "array(['sometimes', 'no', 'trying to quit', 'when drinking', 'yes'],\n",
       "      dtype=object)"
      ]
     },
     "execution_count": 279,
     "metadata": {},
     "output_type": "execute_result"
    }
   ],
   "source": [
    "df.smokes.unique()"
   ]
  },
  {
   "cell_type": "code",
   "execution_count": 280,
   "metadata": {},
   "outputs": [
    {
     "name": "stdout",
     "output_type": "stream",
     "text": [
      "After cleaning up, the df has 4228 rows.\n"
     ]
    }
   ],
   "source": [
    "print(f'After cleaning up, the df has {len(df)} rows.')"
   ]
  },
  {
   "cell_type": "markdown",
   "metadata": {},
   "source": [
    "### Cleaning data for binary Logistic Regression"
   ]
  },
  {
   "cell_type": "code",
   "execution_count": 281,
   "metadata": {},
   "outputs": [],
   "source": [
    "def group_education_binary(s):\n",
    "    description = s['highest_education']\n",
    "    if 'undergraduate' in description:\n",
    "        return 1\n",
    "    else:\n",
    "        return 0\n",
    "\n",
    "df['highest_education_binary'] = df.apply(group_education_binary, axis=1)"
   ]
  },
  {
   "cell_type": "code",
   "execution_count": 282,
   "metadata": {},
   "outputs": [
    {
     "data": {
      "text/plain": [
       "1    2371\n",
       "0    1857\n",
       "Name: highest_education_binary, dtype: int64"
      ]
     },
     "execution_count": 282,
     "metadata": {},
     "output_type": "execute_result"
    }
   ],
   "source": [
    "df.highest_education_binary.value_counts()"
   ]
  },
  {
   "cell_type": "markdown",
   "metadata": {},
   "source": [
    "## Analysing LogisticRegression"
   ]
  },
  {
   "cell_type": "code",
   "execution_count": 283,
   "metadata": {},
   "outputs": [],
   "source": [
    "selected_cols = ['highest_education', 'diet', 'drinks', 'drugs', 'ethnicity', 'job', 'smokes']\n",
    "df_LR = df[selected_cols]"
   ]
  },
  {
   "cell_type": "markdown",
   "metadata": {},
   "source": [
    "At a maximum, there should be no more than the smallest class size divided by the number of features."
   ]
  },
  {
   "cell_type": "code",
   "execution_count": 284,
   "metadata": {
    "scrolled": true
   },
   "outputs": [
    {
     "name": "stdout",
     "output_type": "stream",
     "text": [
      "Maximum features limit: 22\n"
     ]
    }
   ],
   "source": [
    "max_features = min(df.highest_education.value_counts()//(len(selected_cols)- 1))\n",
    "print(f'Maximum features limit: {max_features}')"
   ]
  },
  {
   "cell_type": "code",
   "execution_count": 285,
   "metadata": {},
   "outputs": [
    {
     "data": {
      "image/png": "[encoded data removed]",
      "text/plain": [
       "<Figure size 720x432 with 1 Axes>"
      ]
     },
     "metadata": {
      "needs_background": "light"
     },
     "output_type": "display_data"
    }
   ],
   "source": [
    "fig = gcf()\n",
    "fig.set_size_inches(10, 6)\n",
    "sns.countplot(data=df_LR, x='highest_education', hue='smokes')\n",
    "plt.title('Smokes trends in terms of highest education level')\n",
    "plt.xlabel('Highest education')\n",
    "plt.ylabel('Counts of different groups in terms of smoking')\n",
    "plt.show()\n",
    "plt.close()"
   ]
  },
  {
   "cell_type": "markdown",
   "metadata": {},
   "source": [
    "> DESCRIPTION OF THE GRAPH IS NEEDED"
   ]
  },
  {
   "cell_type": "code",
   "execution_count": 286,
   "metadata": {},
   "outputs": [
    {
     "data": {
      "image/png": "[encoded data removed]",
      "text/plain": [
       "<Figure size 720x432 with 1 Axes>"
      ]
     },
     "metadata": {
      "needs_background": "light"
     },
     "output_type": "display_data"
    }
   ],
   "source": [
    "fig = gcf()\n",
    "fig.set_size_inches(10, 6)\n",
    "sns.countplot(data=df_LR, x='highest_education', hue='drugs')\n",
    "plt.title('Drugs trends in terms of highest education level')\n",
    "plt.xlabel('Highest education')\n",
    "plt.ylabel('Counts of different groups in terms of drugs')\n",
    "plt.show()\n",
    "plt.close()"
   ]
  },
  {
   "cell_type": "markdown",
   "metadata": {},
   "source": [
    "> DESCRIPTION OF THE GRAPH IS NEEDED"
   ]
  },
  {
   "cell_type": "markdown",
   "metadata": {
    "tags": []
   },
   "source": [
    "## Multi classification Logistic Regression Model"
   ]
  },
  {
   "cell_type": "markdown",
   "metadata": {},
   "source": [
    "### Model without taking into consideration class imbalance"
   ]
  },
  {
   "cell_type": "markdown",
   "metadata": {},
   "source": [
    "Creating quantitative values from qualitative ones, by using pandas `get_dummies` function for each feature that is selected before:"
   ]
  },
  {
   "cell_type": "code",
   "execution_count": 287,
   "metadata": {},
   "outputs": [],
   "source": [
    "for col in selected_cols[1:]:\n",
    "    df_LR = pd.get_dummies(df_LR, columns=[col], prefix = [col])"
   ]
  },
  {
   "cell_type": "markdown",
   "metadata": {},
   "source": [
    "**Among classes imbalance** can be observed, therefore it is needed to take into consideration. This aspect is solved by using model weighting methods, but firstly model is fitted without noting class imbalance. In addition it is a kind of multi classification problem, since the feature column has more than 2 options to choose from."
   ]
  },
  {
   "cell_type": "code",
   "execution_count": 288,
   "metadata": {
    "scrolled": true
   },
   "outputs": [
    {
     "data": {
      "text/plain": [
       "undergraduate    2371\n",
       "highschool        969\n",
       "master            754\n",
       "phd               134\n",
       "Name: highest_education, dtype: int64"
      ]
     },
     "execution_count": 288,
     "metadata": {},
     "output_type": "execute_result"
    }
   ],
   "source": [
    "df_LR.highest_education.value_counts()"
   ]
  },
  {
   "cell_type": "markdown",
   "metadata": {},
   "source": [
    "Labels and features are selected:"
   ]
  },
  {
   "cell_type": "code",
   "execution_count": 289,
   "metadata": {},
   "outputs": [],
   "source": [
    "labels = df_LR.iloc[:, 1:len(df_LR.columns)]\n",
    "feature = df_LR['highest_education']"
   ]
  },
  {
   "cell_type": "markdown",
   "metadata": {},
   "source": [
    "Splitting data into a train and test sets, shapes needs to be altered to fit to the LR model:"
   ]
  },
  {
   "cell_type": "code",
   "execution_count": 290,
   "metadata": {},
   "outputs": [],
   "source": [
    "X_train, X_test, Y_train, Y_test = train_test_split(labels, feature, test_size=.3, random_state = 0)\n",
    "\n",
    "Y_train = Y_train.to_numpy().ravel()\n",
    "Y_test = Y_test.to_numpy().ravel()"
   ]
  },
  {
   "cell_type": "markdown",
   "metadata": {},
   "source": [
    "LR model is created and fitted with the train dataset, as well as test set is predicted by the fitted LR model."
   ]
  },
  {
   "cell_type": "code",
   "execution_count": 291,
   "metadata": {},
   "outputs": [],
   "source": [
    "lr_model = LogisticRegression(multi_class=\"multinomial\", max_iter=1000).fit(X_train, Y_train)\n",
    "lr_predictions = lr_model.predict(X_test)"
   ]
  },
  {
   "cell_type": "markdown",
   "metadata": {},
   "source": [
    "Important evaluation metrics is shown below, including _accuracy_, _precision_, _recall_, _f1-score_:"
   ]
  },
  {
   "cell_type": "code",
   "execution_count": 292,
   "metadata": {},
   "outputs": [
    {
     "name": "stdout",
     "output_type": "stream",
     "text": [
      "               precision    recall  f1-score   support\n",
      "\n",
      "   highschool       0.61      0.41      0.49       280\n",
      "       master       0.35      0.11      0.17       240\n",
      "          phd       0.17      0.03      0.05        38\n",
      "undergraduate       0.62      0.87      0.73       711\n",
      "\n",
      "     accuracy                           0.60      1269\n",
      "    macro avg       0.44      0.35      0.36      1269\n",
      " weighted avg       0.55      0.60      0.55      1269\n",
      "\n"
     ]
    }
   ],
   "source": [
    "warnings.filterwarnings('ignore')\n",
    "print(classification_report(Y_test, lr_predictions))"
   ]
  },
  {
   "cell_type": "markdown",
   "metadata": {},
   "source": [
    "\\begin{equation*}\n",
    "accuracy   = \\frac{TP + TN}{TP + TN + FP + FN}\n",
    "\\end{equation*}"
   ]
  },
  {
   "cell_type": "markdown",
   "metadata": {},
   "source": [
    "\\begin{equation*}\n",
    "precision   = \\frac{TP}{TP + FP}\n",
    "\\end{equation*}"
   ]
  },
  {
   "cell_type": "markdown",
   "metadata": {},
   "source": [
    "\\begin{equation*}\n",
    "recall   = \\frac{TP}{TP + FN}\n",
    "\\end{equation*}"
   ]
  },
  {
   "cell_type": "markdown",
   "metadata": {},
   "source": [
    "\\begin{equation*}\n",
    "f1-score   = \\frac{2 * precision * recall}{precision + recall}\n",
    "\\end{equation*}"
   ]
  },
  {
   "cell_type": "markdown",
   "metadata": {},
   "source": [
    "Normalized confusion matrix is created:"
   ]
  },
  {
   "cell_type": "code",
   "execution_count": 293,
   "metadata": {},
   "outputs": [],
   "source": [
    "cm = confusion_matrix(Y_test, lr_predictions, normalize='true')"
   ]
  },
  {
   "cell_type": "code",
   "execution_count": 294,
   "metadata": {},
   "outputs": [],
   "source": [
    "cm_labels = np.unique(Y_test)\n",
    "cm_df = pd.DataFrame(cm, index=cm_labels, columns=cm_labels)"
   ]
  },
  {
   "cell_type": "code",
   "execution_count": 295,
   "metadata": {
    "scrolled": true,
    "tags": []
   },
   "outputs": [
    {
     "data": {
      "image/png": "[encoded data removed]",
      "text/plain": [
       "<Figure size 360x288 with 2 Axes>"
      ]
     },
     "metadata": {
      "needs_background": "light"
     },
     "output_type": "display_data"
    }
   ],
   "source": [
    "plt.figure(figsize=(5,4))\n",
    "sns.heatmap(cm_df, annot=True)\n",
    "plt.title('Confusion Matrix')\n",
    "plt.ylabel('Actal Values')\n",
    "plt.xlabel('Predicted Values')\n",
    "plt.show()"
   ]
  },
  {
   "cell_type": "markdown",
   "metadata": {},
   "source": [
    "### Using model weighting method"
   ]
  },
  {
   "cell_type": "markdown",
   "metadata": {},
   "source": [
    "Three functions have been created to easily reuse models. `make_classification` splits data into train and test set, and creates a Logistic Regression model, and fits it with the mentioned data, in addition it returns a tuple of the actual and predicted values. `make_cm` function evaluates and gives a labeled confusion matrix, whereas `evaluation_metrics` gives us some evaulation metrics such as accuracy, recall and so on."
   ]
  },
  {
   "cell_type": "code",
   "execution_count": 296,
   "metadata": {},
   "outputs": [],
   "source": [
    "def make_classification(l, f, t_size, iteration,  multi_class='auto', class_weight='None', oversampling=False):\n",
    "    if oversampling:\n",
    "        ros = RandomOverSampler(sampling_strategy='not majority')\n",
    "        X_over, Y_over = ros.fit_resample(l, f)\n",
    "        X_train, X_test, Y_train, Y_test = train_test_split(X_over, Y_over, test_size=t_size, random_state = 0)\n",
    "    else:  \n",
    "        X_train, X_test, Y_train, Y_test = train_test_split(l, f, test_size=t_size, random_state = 0)\n",
    "    Y_train = Y_train.to_numpy().ravel()\n",
    "    Y_test = Y_test.to_numpy().ravel()\n",
    "    lr_model = LogisticRegression(multi_class=multi_class, max_iter=iteration, class_weight=class_weight).fit(X_train, Y_train)\n",
    "    lr_predictions = lr_model.predict(X_test)\n",
    "    return (Y_test, lr_predictions)\n",
    "\n",
    "def make_cm(actual, prediction, is_normalized):\n",
    "    cm = confusion_matrix(actual, prediction, normalize=is_normalized)\n",
    "    cm_df = pd.DataFrame(cm, index=np.unique(actual), columns=np.unique(actual))\n",
    "    plt.figure(figsize=(5,4))\n",
    "    sns.heatmap(cm_df, annot=True)\n",
    "    plt.title('Confusion Matrix')\n",
    "    plt.ylabel('Actal Values')\n",
    "    plt.xlabel('Predicted Values')\n",
    "    plt.show()\n",
    "\n",
    "def evaluation_metrics(actual, prediction):\n",
    "    warnings.filterwarnings('ignore')\n",
    "    print(classification_report(actual, prediction))\n",
    "    "
   ]
  },
  {
   "cell_type": "code",
   "execution_count": 297,
   "metadata": {},
   "outputs": [
    {
     "data": {
      "image/png": "[encoded data removed]",
      "text/plain": [
       "<Figure size 360x288 with 2 Axes>"
      ]
     },
     "metadata": {
      "needs_background": "light"
     },
     "output_type": "display_data"
    }
   ],
   "source": [
    "(actual, prediction) = make_classification(labels, feature, .3, 1000, multi_class='multinomial', class_weight='balanced')\n",
    "make_cm(actual, prediction, 'true')"
   ]
  },
  {
   "cell_type": "code",
   "execution_count": 298,
   "metadata": {
    "tags": []
   },
   "outputs": [
    {
     "name": "stdout",
     "output_type": "stream",
     "text": [
      "               precision    recall  f1-score   support\n",
      "\n",
      "   highschool       0.49      0.60      0.54       280\n",
      "       master       0.31      0.35      0.33       240\n",
      "          phd       0.12      0.66      0.20        38\n",
      "undergraduate       0.68      0.43      0.53       711\n",
      "\n",
      "     accuracy                           0.46      1269\n",
      "    macro avg       0.40      0.51      0.40      1269\n",
      " weighted avg       0.55      0.46      0.48      1269\n",
      "\n"
     ]
    }
   ],
   "source": [
    "evaluation_metrics(actual, prediction)"
   ]
  },
  {
   "cell_type": "markdown",
   "metadata": {},
   "source": [
    "As it can be seen with model weighting, our model tends to predict better each classes of `highest_education`, evaluation metrics has been balanced for each of the classes."
   ]
  },
  {
   "cell_type": "markdown",
   "metadata": {},
   "source": [
    "## Binary classification Logistic Regression Model"
   ]
  },
  {
   "cell_type": "markdown",
   "metadata": {},
   "source": [
    "### Using model weighting method"
   ]
  },
  {
   "cell_type": "code",
   "execution_count": 299,
   "metadata": {},
   "outputs": [],
   "source": [
    "feature = df['highest_education_binary']"
   ]
  },
  {
   "cell_type": "code",
   "execution_count": 300,
   "metadata": {},
   "outputs": [
    {
     "data": {
      "image/png": "[encoded data removed]",
      "text/plain": [
       "<Figure size 360x288 with 2 Axes>"
      ]
     },
     "metadata": {
      "needs_background": "light"
     },
     "output_type": "display_data"
    }
   ],
   "source": [
    "(actual, prediction) = make_classification(labels, feature, .3, 1000, class_weight='balanced')\n",
    "make_cm(actual, prediction, 'true')"
   ]
  },
  {
   "cell_type": "code",
   "execution_count": 301,
   "metadata": {},
   "outputs": [
    {
     "name": "stdout",
     "output_type": "stream",
     "text": [
      "              precision    recall  f1-score   support\n",
      "\n",
      "           0       0.57      0.52      0.54       558\n",
      "           1       0.65      0.69      0.67       711\n",
      "\n",
      "    accuracy                           0.62      1269\n",
      "   macro avg       0.61      0.61      0.61      1269\n",
      "weighted avg       0.61      0.62      0.61      1269\n",
      "\n"
     ]
    }
   ],
   "source": [
    "evaluation_metrics(actual, prediction)"
   ]
  },
  {
   "cell_type": "markdown",
   "metadata": {},
   "source": [
    "### Using oversampling method"
   ]
  },
  {
   "cell_type": "code",
   "execution_count": 302,
   "metadata": {},
   "outputs": [
    {
     "data": {
      "image/png": "[encoded data removed]",
      "text/plain": [
       "<Figure size 360x288 with 2 Axes>"
      ]
     },
     "metadata": {
      "needs_background": "light"
     },
     "output_type": "display_data"
    }
   ],
   "source": [
    "(actual, prediction) = make_classification(labels, feature, .3, 1000, oversampling=True)\n",
    "make_cm(actual, prediction, 'true')"
   ]
  },
  {
   "cell_type": "code",
   "execution_count": 303,
   "metadata": {},
   "outputs": [
    {
     "name": "stdout",
     "output_type": "stream",
     "text": [
      "              precision    recall  f1-score   support\n",
      "\n",
      "           0       0.62      0.51      0.56       695\n",
      "           1       0.60      0.70      0.64       728\n",
      "\n",
      "    accuracy                           0.61      1423\n",
      "   macro avg       0.61      0.60      0.60      1423\n",
      "weighted avg       0.61      0.61      0.60      1423\n",
      "\n"
     ]
    }
   ],
   "source": [
    "evaluation_metrics(actual, prediction)"
   ]
  },
  {
   "cell_type": "code",
   "execution_count": 304,
   "metadata": {},
   "outputs": [
    {
     "name": "stdout",
     "output_type": "stream",
     "text": [
      "               precision    recall  f1-score   support\n",
      "\n",
      "   highschool       0.61      0.41      0.49       280\n",
      "       master       0.35      0.11      0.17       240\n",
      "          phd       0.17      0.03      0.05        38\n",
      "undergraduate       0.62      0.87      0.73       711\n",
      "\n",
      "     accuracy                           0.60      1269\n",
      "    macro avg       0.44      0.35      0.36      1269\n",
      " weighted avg       0.55      0.60      0.55      1269\n",
      "\n"
     ]
    }
   ],
   "source": [
    "warnings.filterwarnings('ignore')\n",
    "print(classification_report(Y_test, lr_predictions))"
   ]
  }
 ],
 "metadata": {
  "kernelspec": {
   "display_name": "Python 3 (ipykernel)",
   "language": "python",
   "name": "python3"
  },
  "language_info": {
   "codemirror_mode": {
    "name": "ipython",
    "version": 3
   },
   "file_extension": ".py",
   "mimetype": "text/x-python",
   "name": "python",
   "nbconvert_exporter": "python",
   "pygments_lexer": "ipython3",
   "version": "3.9.7"
  }
 },
 "nbformat": 4,
 "nbformat_minor": 4
}
